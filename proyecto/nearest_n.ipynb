{
 "cells": [
  {
   "cell_type": "code",
   "execution_count": null,
   "metadata": {},
   "outputs": [],
   "source": [
    "from IPython import get_ipython"
   ]
  },
  {
   "cell_type": "code",
   "execution_count": null,
   "metadata": {
    "lines_to_next_cell": 2
   },
   "outputs": [],
   "source": [
    "import matplotlib\n",
    "import numpy as np\n",
    "import matplotlib.pyplot as plt\n",
    "import numpy.linalg as la\n",
    "\n",
    "# Inutil en notebook es para vim\n",
    "#matplotlib.use(\"module://matplotlib-backend-kitty\")\n",
    "\n",
    "# Ejemplo de juguete\n",
    "n_cities = 30\n",
    "\n",
    "x = np.asarray(range(int(-n_cities / 2), int(n_cities / 2) + 1, 1))\n",
    "y = np.sqrt(n_cities ** 2 / 4 - x ** 2)\n",
    "\n",
    "cities = np.asarray(list(zip(x, y)))"
   ]
  },
  {
   "cell_type": "markdown",
   "metadata": {},
   "source": [
    "Idea: Tomo una ciudad aleatoriamente, calculo la distancia a el resto de las ciudades como una\n",
    "función vectorizada sobre todo cities, tomo argmin, y asi sucesivamente.\n",
    "Para ir descartando ciudades las vamos marcando como nan para que no entrene en el cálculo de la\n",
    "norma"
   ]
  },
  {
   "cell_type": "code",
   "execution_count": null,
   "metadata": {},
   "outputs": [],
   "source": [
    "# Lista de las visitadas\n",
    "visitados = []\n",
    "index = range(len(cities))\n",
    "\n",
    "# Index aleatorio de la primera ciudad\n",
    "curr_city = np.random.randint(0, len(cities))\n",
    "visitados.append(curr_city)\n",
    "\n",
    "# Hacemos copia de cities para no desmadrarlo\n",
    "cities2 = np.copy(cities)\n",
    "\n",
    "# for c in range(len(cities) - 1):\n",
    "while len(visitados) != len(index):\n",
    "    # Marcamos la ciudad actual como visitada\n",
    "    # Asi se descarta del cálculo\n",
    "    cities2[curr_city] = np.nan\n",
    "\n",
    "    # De las ciudades que no son nan, obtenemos la más cercana\n",
    "    distancias = la.norm(cities2 - cities[curr_city], axis=1)\n",
    "\n",
    "    # Tomamos la ciudad más cercana como la actual (exluyendo nan)\n",
    "    curr_city = np.nanargmin(distancias)\n",
    "    visitados.append(curr_city)"
   ]
  },
  {
   "cell_type": "code",
   "execution_count": null,
   "metadata": {
    "title": "[makdown]"
   },
   "outputs": [],
   "source": [
    "# Graficando para ver si hace sentido"
   ]
  },
  {
   "cell_type": "code",
   "execution_count": null,
   "metadata": {},
   "outputs": [],
   "source": [
    "plt.plot(cities[:, 0], cities[:, 1])\n",
    "plt.plot(cities[visitados, 0], cities[visitados, 1], \"*-\")\n",
    "plt.show()\n",
    "\n",
    "print(visitados)"
   ]
  }
 ],
 "metadata": {
  "jupytext": {
   "cell_metadata_filter": "title,-all",
   "encoding": "# -*- coding: utf-8 -*-",
   "formats": "py:percent,ipynb",
   "main_language": "python"
  },
  "language_info": {}
 },
 "nbformat": 4,
 "nbformat_minor": 5
}