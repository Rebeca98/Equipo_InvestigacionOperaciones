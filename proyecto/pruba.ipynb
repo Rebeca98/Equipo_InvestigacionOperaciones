{
 "cells": [
  {
   "cell_type": "code",
   "execution_count": null,
   "metadata": {},
   "outputs": [],
   "source": [
    "import numpy as np"
   ]
  },
  {
   "cell_type": "code",
   "execution_count": null,
   "metadata": {},
   "outputs": [],
   "source": []
  }
 ],
 "metadata": {
  "kernelspec": {
   "display_name": "Python 3.9.4 64-bit ('trading': conda)",
   "name": "python394jvsc74a57bd04d389d1175529bf1fc6c44e249c48c3c699daf76ee6502d60b9a28d5cfadbcc5"
  },
  "language_info": {
   "name": "python",
   "version": ""
  },
  "orig_nbformat": 2
 },
 "nbformat": 4,
 "nbformat_minor": 2
}