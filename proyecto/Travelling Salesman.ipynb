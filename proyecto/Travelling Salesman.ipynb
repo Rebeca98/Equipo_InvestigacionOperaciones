{
 "cells": [
  {
   "cell_type": "code",
   "execution_count": 1,
   "metadata": {},
   "outputs": [],
   "source": [
    "import matplotlib\n",
    "import matplotlib.pyplot as plt"
   ]
  },
  {
   "cell_type": "code",
   "execution_count": 2,
   "id": "734e7ea4",
   "metadata": {},
   "outputs": [],
   "source": [
    "import numpy as np\n",
    "import numpy.linalg as la\n",
    "\n",
    "matplotlib.use(\"module://matplotlib-backend-kitty\")\n",
    "\n",
    "np.set_printoptions(threshold=0)\n",
    "\n",
    "%matplotlib inline"
   ]
  },
  {
   "cell_type": "code",
   "execution_count": 3,
   "metadata": {},
   "outputs": [
    {
     "output_type": "execute_result",
     "data": {
      "text/plain": [
       "array([[24748.3333, 50840.    ],\n",
       "       [24758.8889, 51211.9444],\n",
       "       [24827.2222, 51394.7222],\n",
       "       ...,\n",
       "       [26133.3333, 51216.6667],\n",
       "       [26133.3333, 51300.    ],\n",
       "       [26150.2778, 51108.0556]])"
      ]
     },
     "metadata": {},
     "execution_count": 3
    }
   ],
   "source": [
    "cities = np.genfromtxt(\"csv/Qatar.csv\", delimiter=\",\")\n",
    "cities = cities[1:, 1:]\n",
    "n_cities = cities.shape[0]\n",
    "cities"
   ]
  },
  {
   "cell_type": "code",
   "execution_count": 4,
   "metadata": {},
   "outputs": [
    {
     "output_type": "execute_result",
     "data": {
      "text/plain": [
       "<matplotlib.collections.PathCollection at 0x7f828f516640>"
      ]
     },
     "metadata": {},
     "execution_count": 4
    },
    {
     "output_type": "display_data",
     "data": {
      "text/plain": "<Figure size 432x288 with 1 Axes>",
      "image/svg+xml": "<?xml version=\"1.0\" encoding=\"utf-8\" standalone=\"no\"?>\n<!DOCTYPE svg PUBLIC \"-//W3C//DTD SVG 1.1//EN\"\n  \"http://www.w3.org/Graphics/SVG/1.1/DTD/svg11.dtd\">\n<!-- Created with matplotlib (https://matplotlib.org/) -->\n<svg height=\"248.518125pt\" version=\"1.1\" viewBox=\"0 0 399.49531 248.518125\" width=\"399.49531pt\" xmlns=\"http://www.w3.org/2000/svg\" xmlns:xlink=\"http://www.w3.org/1999/xlink\">\n <metadata>\n  <rdf:RDF xmlns:cc=\"http://creativecommons.org/ns#\" xmlns:dc=\"http://purl.org/dc/elements/1.1/\" xmlns:rdf=\"http://www.w3.org/1999/02/22-rdf-syntax-ns#\">\n   <cc:Work>\n    <dc:type rdf:resource=\"http://purl.org/dc/dcmitype/StillImage\"/>\n    <dc:date>2021-05-22T02:09:28.469730</dc:date>\n    <dc:format>image/svg+xml</dc:format>\n    <dc:creator>\n     <cc:Agent>\n      <dc:title>Matplotlib v3.3.4, https://matplotlib.org/</dc:title>\n     </cc:Agent>\n    </dc:creator>\n   </cc:Work>\n  </rdf:RDF>\n </metadata>\n <defs>\n  <style type=\"text/css\">*{stroke-linecap:butt;stroke-linejoin:round;}</style>\n </defs>\n <g id=\"figure_1\">\n  <g id=\"patch_1\">\n   <path d=\"M 0 248.518125 \nL 399.49531 248.518125 \nL 399.49531 0 \nL 0 0 \nz\n\" style=\"fill:none;\"/>\n  </g>\n  <g id=\"axes_1\">\n   <g id=\"patch_2\">\n    <path d=\"M 46.0125 224.64 \nL 380.8125 224.64 \nL 380.8125 7.2 \nL 46.0125 7.2 \nz\n\" style=\"fill:#ffffff;\"/>\n   </g>\n   <g id=\"PathCollection_1\">\n    <defs>\n     <path d=\"M 0 1.5 \nC 0.397805 1.5 0.77937 1.341951 1.06066 1.06066 \nC 1.341951 0.77937 1.5 0.397805 1.5 0 \nC 1.5 -0.397805 1.341951 -0.77937 1.06066 -1.06066 \nC 0.77937 -1.341951 0.397805 -1.5 0 -1.5 \nC -0.397805 -1.5 -0.77937 -1.341951 -1.06066 -1.06066 \nC -1.341951 -0.77937 -1.5 -0.397805 -1.5 0 \nC -1.5 0.397805 -1.341951 0.77937 -1.06066 1.06066 \nC -0.77937 1.341951 -0.397805 1.5 0 1.5 \nz\n\" id=\"mb0e45f851a\" style=\"stroke:#1f77b4;\"/>\n    </defs>\n    <g clip-path=\"url(#p4032a8f699)\">\n     <use style=\"fill:#1f77b4;stroke:#1f77b4;\" x=\"61.230682\" xlink:href=\"#mb0e45f851a\" y=\"197.752266\"/>\n     <use style=\"fill:#1f77b4;stroke:#1f77b4;\" x=\"63.522314\" xlink:href=\"#mb0e45f851a\" y=\"111.507968\"/>\n     <use style=\"fill:#1f77b4;stroke:#1f77b4;\" x=\"78.357546\" xlink:href=\"#mb0e45f851a\" y=\"69.126518\"/>\n     <use style=\"fill:#1f77b4;stroke:#1f77b4;\" x=\"95.122567\" xlink:href=\"#mb0e45f851a\" y=\"120.07442\"/>\n     <use style=\"fill:#1f77b4;stroke:#1f77b4;\" x=\"115.023505\" xlink:href=\"#mb0e45f851a\" y=\"33.379243\"/>\n     <use style=\"fill:#1f77b4;stroke:#1f77b4;\" x=\"118.0388\" xlink:href=\"#mb0e45f851a\" y=\"151.506262\"/>\n     <use style=\"fill:#1f77b4;stroke:#1f77b4;\" x=\"122.561731\" xlink:href=\"#mb0e45f851a\" y=\"96.822589\"/>\n     <use style=\"fill:#1f77b4;stroke:#1f77b4;\" x=\"130.582421\" xlink:href=\"#mb0e45f851a\" y=\"142.682151\"/>\n     <use style=\"fill:#1f77b4;stroke:#1f77b4;\" x=\"137.577895\" xlink:href=\"#mb0e45f851a\" y=\"40.850738\"/>\n     <use style=\"fill:#1f77b4;stroke:#1f77b4;\" x=\"138.301558\" xlink:href=\"#mb0e45f851a\" y=\"39.691368\"/>\n     <use style=\"fill:#1f77b4;stroke:#1f77b4;\" x=\"142.342047\" xlink:href=\"#mb0e45f851a\" y=\"110.026547\"/>\n     <use style=\"fill:#1f77b4;stroke:#1f77b4;\" x=\"148.613858\" xlink:href=\"#mb0e45f851a\" y=\"35.95562\"/>\n     <use style=\"fill:#1f77b4;stroke:#1f77b4;\" x=\"150.242116\" xlink:href=\"#mb0e45f851a\" y=\"122.715212\"/>\n     <use style=\"fill:#1f77b4;stroke:#1f77b4;\" x=\"151.086401\" xlink:href=\"#mb0e45f851a\" y=\"109.446862\"/>\n     <use style=\"fill:#1f77b4;stroke:#1f77b4;\" x=\"152.292527\" xlink:href=\"#mb0e45f851a\" y=\"19.917672\"/>\n     <use style=\"fill:#1f77b4;stroke:#1f77b4;\" x=\"152.533748\" xlink:href=\"#mb0e45f851a\" y=\"140.621045\"/>\n     <use style=\"fill:#1f77b4;stroke:#1f77b4;\" x=\"153.619253\" xlink:href=\"#mb0e45f851a\" y=\"98.175203\"/>\n     <use style=\"fill:#1f77b4;stroke:#1f77b4;\" x=\"161.639922\" xlink:href=\"#mb0e45f851a\" y=\"69.255324\"/>\n     <use style=\"fill:#1f77b4;stroke:#1f77b4;\" x=\"161.760543\" xlink:href=\"#mb0e45f851a\" y=\"17.083636\"/>\n     <use style=\"fill:#1f77b4;stroke:#1f77b4;\" x=\"162.363607\" xlink:href=\"#mb0e45f851a\" y=\"205.352591\"/>\n     <use style=\"fill:#1f77b4;stroke:#1f77b4;\" x=\"162.423895\" xlink:href=\"#mb0e45f851a\" y=\"72.797851\"/>\n     <use style=\"fill:#1f77b4;stroke:#1f77b4;\" x=\"164.353685\" xlink:href=\"#mb0e45f851a\" y=\"55.922559\"/>\n     <use style=\"fill:#1f77b4;stroke:#1f77b4;\" x=\"164.534617\" xlink:href=\"#mb0e45f851a\" y=\"120.203249\"/>\n     <use style=\"fill:#1f77b4;stroke:#1f77b4;\" x=\"166.524696\" xlink:href=\"#mb0e45f851a\" y=\"83.361018\"/>\n     <use style=\"fill:#1f77b4;stroke:#1f77b4;\" x=\"166.705628\" xlink:href=\"#mb0e45f851a\" y=\"113.569051\"/>\n     <use style=\"fill:#1f77b4;stroke:#1f77b4;\" x=\"167.007159\" xlink:href=\"#mb0e45f851a\" y=\"84.133924\"/>\n     <use style=\"fill:#1f77b4;stroke:#1f77b4;\" x=\"167.007159\" xlink:href=\"#mb0e45f851a\" y=\"45.745857\"/>\n     <use style=\"fill:#1f77b4;stroke:#1f77b4;\" x=\"168.575107\" xlink:href=\"#mb0e45f851a\" y=\"61.204143\"/>\n     <use style=\"fill:#1f77b4;stroke:#1f77b4;\" x=\"168.635417\" xlink:href=\"#mb0e45f851a\" y=\"55.729339\"/>\n     <use style=\"fill:#1f77b4;stroke:#1f77b4;\" x=\"170.685807\" xlink:href=\"#mb0e45f851a\" y=\"30.996086\"/>\n     <use style=\"fill:#1f77b4;stroke:#1f77b4;\" x=\"170.987338\" xlink:href=\"#mb0e45f851a\" y=\"36.535305\"/>\n     <use style=\"fill:#1f77b4;stroke:#1f77b4;\" x=\"170.987338\" xlink:href=\"#mb0e45f851a\" y=\"33.186022\"/>\n     <use style=\"fill:#1f77b4;stroke:#1f77b4;\" x=\"171.650691\" xlink:href=\"#mb0e45f851a\" y=\"68.160368\"/>\n     <use style=\"fill:#1f77b4;stroke:#1f77b4;\" x=\"173.098038\" xlink:href=\"#mb0e45f851a\" y=\"40.915153\"/>\n     <use style=\"fill:#1f77b4;stroke:#1f77b4;\" x=\"173.58048\" xlink:href=\"#mb0e45f851a\" y=\"34.216563\"/>\n     <use style=\"fill:#1f77b4;stroke:#1f77b4;\" x=\"173.761412\" xlink:href=\"#mb0e45f851a\" y=\"167.801845\"/>\n     <use style=\"fill:#1f77b4;stroke:#1f77b4;\" x=\"173.761412\" xlink:href=\"#mb0e45f851a\" y=\"48.579893\"/>\n     <use style=\"fill:#1f77b4;stroke:#1f77b4;\" x=\"174.605696\" xlink:href=\"#mb0e45f851a\" y=\"37.114991\"/>\n     <use style=\"fill:#1f77b4;stroke:#1f77b4;\" x=\"174.665985\" xlink:href=\"#mb0e45f851a\" y=\"43.362724\"/>\n     <use style=\"fill:#1f77b4;stroke:#1f77b4;\" x=\"174.665985\" xlink:href=\"#mb0e45f851a\" y=\"39.369318\"/>\n     <use style=\"fill:#1f77b4;stroke:#1f77b4;\" x=\"175.751491\" xlink:href=\"#mb0e45f851a\" y=\"36.92177\"/>\n     <use style=\"fill:#1f77b4;stroke:#1f77b4;\" x=\"176.053022\" xlink:href=\"#mb0e45f851a\" y=\"33.636878\"/>\n     <use style=\"fill:#1f77b4;stroke:#1f77b4;\" x=\"176.294243\" xlink:href=\"#mb0e45f851a\" y=\"38.789632\"/>\n     <use style=\"fill:#1f77b4;stroke:#1f77b4;\" x=\"176.294243\" xlink:href=\"#mb0e45f851a\" y=\"35.118299\"/>\n     <use style=\"fill:#1f77b4;stroke:#1f77b4;\" x=\"176.475175\" xlink:href=\"#mb0e45f851a\" y=\"57.339566\"/>\n     <use style=\"fill:#1f77b4;stroke:#1f77b4;\" x=\"176.897307\" xlink:href=\"#mb0e45f851a\" y=\"36.59972\"/>\n     <use style=\"fill:#1f77b4;stroke:#1f77b4;\" x=\"176.957617\" xlink:href=\"#mb0e45f851a\" y=\"41.816889\"/>\n     <use style=\"fill:#1f77b4;stroke:#1f77b4;\" x=\"177.379749\" xlink:href=\"#mb0e45f851a\" y=\"36.986184\"/>\n     <use style=\"fill:#1f77b4;stroke:#1f77b4;\" x=\"177.440059\" xlink:href=\"#mb0e45f851a\" y=\"33.894513\"/>\n     <use style=\"fill:#1f77b4;stroke:#1f77b4;\" x=\"177.68128\" xlink:href=\"#mb0e45f851a\" y=\"31.897822\"/>\n     <use style=\"fill:#1f77b4;stroke:#1f77b4;\" x=\"177.982812\" xlink:href=\"#mb0e45f851a\" y=\"43.749166\"/>\n     <use style=\"fill:#1f77b4;stroke:#1f77b4;\" x=\"177.982812\" xlink:href=\"#mb0e45f851a\" y=\"36.792941\"/>\n     <use style=\"fill:#1f77b4;stroke:#1f77b4;\" x=\"178.103433\" xlink:href=\"#mb0e45f851a\" y=\"36.986184\"/>\n     <use style=\"fill:#1f77b4;stroke:#1f77b4;\" x=\"178.284344\" xlink:href=\"#mb0e45f851a\" y=\"35.95562\"/>\n     <use style=\"fill:#1f77b4;stroke:#1f77b4;\" x=\"178.404965\" xlink:href=\"#mb0e45f851a\" y=\"33.894513\"/>\n     <use style=\"fill:#1f77b4;stroke:#1f77b4;\" x=\"179.008007\" xlink:href=\"#mb0e45f851a\" y=\"38.145555\"/>\n     <use style=\"fill:#1f77b4;stroke:#1f77b4;\" x=\"179.249228\" xlink:href=\"#mb0e45f851a\" y=\"62.234707\"/>\n     <use style=\"fill:#1f77b4;stroke:#1f77b4;\" x=\"179.369849\" xlink:href=\"#mb0e45f851a\" y=\"39.884612\"/>\n     <use style=\"fill:#1f77b4;stroke:#1f77b4;\" x=\"180.696575\" xlink:href=\"#mb0e45f851a\" y=\"160.265934\"/>\n     <use style=\"fill:#1f77b4;stroke:#1f77b4;\" x=\"181.179017\" xlink:href=\"#mb0e45f851a\" y=\"69.190932\"/>\n     <use style=\"fill:#1f77b4;stroke:#1f77b4;\" x=\"182.505743\" xlink:href=\"#mb0e45f851a\" y=\"42.911845\"/>\n     <use style=\"fill:#1f77b4;stroke:#1f77b4;\" x=\"183.591249\" xlink:href=\"#mb0e45f851a\" y=\"159.943884\"/>\n     <use style=\"fill:#1f77b4;stroke:#1f77b4;\" x=\"184.013402\" xlink:href=\"#mb0e45f851a\" y=\"187.704393\"/>\n     <use style=\"fill:#1f77b4;stroke:#1f77b4;\" x=\"184.314933\" xlink:href=\"#mb0e45f851a\" y=\"58.949816\"/>\n     <use style=\"fill:#1f77b4;stroke:#1f77b4;\" x=\"184.616465\" xlink:href=\"#mb0e45f851a\" y=\"214.756364\"/>\n     <use style=\"fill:#1f77b4;stroke:#1f77b4;\" x=\"185.460749\" xlink:href=\"#mb0e45f851a\" y=\"45.745857\"/>\n     <use style=\"fill:#1f77b4;stroke:#1f77b4;\" x=\"185.882881\" xlink:href=\"#mb0e45f851a\" y=\"42.911845\"/>\n     <use style=\"fill:#1f77b4;stroke:#1f77b4;\" x=\"186.485944\" xlink:href=\"#mb0e45f851a\" y=\"51.671541\"/>\n     <use style=\"fill:#1f77b4;stroke:#1f77b4;\" x=\"186.787476\" xlink:href=\"#mb0e45f851a\" y=\"79.432026\"/>\n     <use style=\"fill:#1f77b4;stroke:#1f77b4;\" x=\"189.139397\" xlink:href=\"#mb0e45f851a\" y=\"62.105878\"/>\n     <use style=\"fill:#1f77b4;stroke:#1f77b4;\" x=\"189.501239\" xlink:href=\"#mb0e45f851a\" y=\"120.460885\"/>\n     <use style=\"fill:#1f77b4;stroke:#1f77b4;\" x=\"189.802771\" xlink:href=\"#mb0e45f851a\" y=\"92.57157\"/>\n     <use style=\"fill:#1f77b4;stroke:#1f77b4;\" x=\"190.104281\" xlink:href=\"#mb0e45f851a\" y=\"42.976259\"/>\n     <use style=\"fill:#1f77b4;stroke:#1f77b4;\" x=\"193.782949\" xlink:href=\"#mb0e45f851a\" y=\"83.296603\"/>\n     <use style=\"fill:#1f77b4;stroke:#1f77b4;\" x=\"194.808144\" xlink:href=\"#mb0e45f851a\" y=\"95.469997\"/>\n     <use style=\"fill:#1f77b4;stroke:#1f77b4;\" x=\"195.893649\" xlink:href=\"#mb0e45f851a\" y=\"108.158662\"/>\n     <use style=\"fill:#1f77b4;stroke:#1f77b4;\" x=\"197.160065\" xlink:href=\"#mb0e45f851a\" y=\"59.400672\"/>\n     <use style=\"fill:#1f77b4;stroke:#1f77b4;\" x=\"197.88375\" xlink:href=\"#mb0e45f851a\" y=\"92.313935\"/>\n     <use style=\"fill:#1f77b4;stroke:#1f77b4;\" x=\"202.044839\" xlink:href=\"#mb0e45f851a\" y=\"62.685564\"/>\n     <use style=\"fill:#1f77b4;stroke:#1f77b4;\" x=\"202.708213\" xlink:href=\"#mb0e45f851a\" y=\"118.142143\"/>\n     <use style=\"fill:#1f77b4;stroke:#1f77b4;\" x=\"202.708213\" xlink:href=\"#mb0e45f851a\" y=\"62.105878\"/>\n     <use style=\"fill:#1f77b4;stroke:#1f77b4;\" x=\"203.733407\" xlink:href=\"#mb0e45f851a\" y=\"143.712693\"/>\n     <use style=\"fill:#1f77b4;stroke:#1f77b4;\" x=\"206.38686\" xlink:href=\"#mb0e45f851a\" y=\"67.000997\"/>\n     <use style=\"fill:#1f77b4;stroke:#1f77b4;\" x=\"206.38686\" xlink:href=\"#mb0e45f851a\" y=\"54.505553\"/>\n     <use style=\"fill:#1f77b4;stroke:#1f77b4;\" x=\"206.929613\" xlink:href=\"#mb0e45f851a\" y=\"208.508653\"/>\n     <use style=\"fill:#1f77b4;stroke:#1f77b4;\" x=\"209.160934\" xlink:href=\"#mb0e45f851a\" y=\"210.312124\"/>\n     <use style=\"fill:#1f77b4;stroke:#1f77b4;\" x=\"209.944908\" xlink:href=\"#mb0e45f851a\" y=\"109.640082\"/>\n     <use style=\"fill:#1f77b4;stroke:#1f77b4;\" x=\"211.573166\" xlink:href=\"#mb0e45f851a\" y=\"72.991072\"/>\n     <use style=\"fill:#1f77b4;stroke:#1f77b4;\" x=\"212.357139\" xlink:href=\"#mb0e45f851a\" y=\"170.31383\"/>\n     <use style=\"fill:#1f77b4;stroke:#1f77b4;\" x=\"213.864797\" xlink:href=\"#mb0e45f851a\" y=\"178.042962\"/>\n     <use style=\"fill:#1f77b4;stroke:#1f77b4;\" x=\"215.553366\" xlink:href=\"#mb0e45f851a\" y=\"87.225572\"/>\n     <use style=\"fill:#1f77b4;stroke:#1f77b4;\" x=\"217.844976\" xlink:href=\"#mb0e45f851a\" y=\"68.482418\"/>\n     <use style=\"fill:#1f77b4;stroke:#1f77b4;\" x=\"219.654166\" xlink:href=\"#mb0e45f851a\" y=\"76.598014\"/>\n     <use style=\"fill:#1f77b4;stroke:#1f77b4;\" x=\"220.196919\" xlink:href=\"#mb0e45f851a\" y=\"174.822484\"/>\n     <use style=\"fill:#1f77b4;stroke:#1f77b4;\" x=\"220.799961\" xlink:href=\"#mb0e45f851a\" y=\"71.76731\"/>\n     <use style=\"fill:#1f77b4;stroke:#1f77b4;\" x=\"222.36793\" xlink:href=\"#mb0e45f851a\" y=\"74.021637\"/>\n     <use style=\"fill:#1f77b4;stroke:#1f77b4;\" x=\"222.72975\" xlink:href=\"#mb0e45f851a\" y=\"67.838318\"/>\n     <use style=\"fill:#1f77b4;stroke:#1f77b4;\" x=\"223.332814\" xlink:href=\"#mb0e45f851a\" y=\"196.20643\"/>\n     <use style=\"fill:#1f77b4;stroke:#1f77b4;\" x=\"223.332814\" xlink:href=\"#mb0e45f851a\" y=\"168.70358\"/>\n     <use style=\"fill:#1f77b4;stroke:#1f77b4;\" x=\"223.875566\" xlink:href=\"#mb0e45f851a\" y=\"48.129014\"/>\n     <use style=\"fill:#1f77b4;stroke:#1f77b4;\" x=\"224.599229\" xlink:href=\"#mb0e45f851a\" y=\"165.161053\"/>\n     <use style=\"fill:#1f77b4;stroke:#1f77b4;\" x=\"226.709951\" xlink:href=\"#mb0e45f851a\" y=\"104.487328\"/>\n     <use style=\"fill:#1f77b4;stroke:#1f77b4;\" x=\"231.353482\" xlink:href=\"#mb0e45f851a\" y=\"90.059607\"/>\n     <use style=\"fill:#1f77b4;stroke:#1f77b4;\" x=\"231.655014\" xlink:href=\"#mb0e45f851a\" y=\"165.933982\"/>\n     <use style=\"fill:#1f77b4;stroke:#1f77b4;\" x=\"232.86114\" xlink:href=\"#mb0e45f851a\" y=\"65.970455\"/>\n     <use style=\"fill:#1f77b4;stroke:#1f77b4;\" x=\"234.368777\" xlink:href=\"#mb0e45f851a\" y=\"70.801159\"/>\n     <use style=\"fill:#1f77b4;stroke:#1f77b4;\" x=\"235.213061\" xlink:href=\"#mb0e45f851a\" y=\"60.495651\"/>\n     <use style=\"fill:#1f77b4;stroke:#1f77b4;\" x=\"235.273372\" xlink:href=\"#mb0e45f851a\" y=\"60.173601\"/>\n     <use style=\"fill:#1f77b4;stroke:#1f77b4;\" x=\"237.504693\" xlink:href=\"#mb0e45f851a\" y=\"123.874582\"/>\n     <use style=\"fill:#1f77b4;stroke:#1f77b4;\" x=\"238.952019\" xlink:href=\"#mb0e45f851a\" y=\"48.257843\"/>\n     <use style=\"fill:#1f77b4;stroke:#1f77b4;\" x=\"239.07264\" xlink:href=\"#mb0e45f851a\" y=\"170.185001\"/>\n     <use style=\"fill:#1f77b4;stroke:#1f77b4;\" x=\"240.640588\" xlink:href=\"#mb0e45f851a\" y=\"47.871378\"/>\n     <use style=\"fill:#1f77b4;stroke:#1f77b4;\" x=\"242.99253\" xlink:href=\"#mb0e45f851a\" y=\"125.549224\"/>\n     <use style=\"fill:#1f77b4;stroke:#1f77b4;\" x=\"248.178814\" xlink:href=\"#mb0e45f851a\" y=\"139.268453\"/>\n     <use style=\"fill:#1f77b4;stroke:#1f77b4;\" x=\"248.359746\" xlink:href=\"#mb0e45f851a\" y=\"50.447755\"/>\n     <use style=\"fill:#1f77b4;stroke:#1f77b4;\" x=\"251.013199\" xlink:href=\"#mb0e45f851a\" y=\"55.278482\"/>\n     <use style=\"fill:#1f77b4;stroke:#1f77b4;\" x=\"256.078883\" xlink:href=\"#mb0e45f851a\" y=\"56.309024\"/>\n     <use style=\"fill:#1f77b4;stroke:#1f77b4;\" x=\"256.983478\" xlink:href=\"#mb0e45f851a\" y=\"74.343687\"/>\n     <use style=\"fill:#1f77b4;stroke:#1f77b4;\" x=\"260.662125\" xlink:href=\"#mb0e45f851a\" y=\"120.203249\"/>\n     <use style=\"fill:#1f77b4;stroke:#1f77b4;\" x=\"264.340794\" xlink:href=\"#mb0e45f851a\" y=\"43.362724\"/>\n     <use style=\"fill:#1f77b4;stroke:#1f77b4;\" x=\"264.883546\" xlink:href=\"#mb0e45f851a\" y=\"51.929176\"/>\n     <use style=\"fill:#1f77b4;stroke:#1f77b4;\" x=\"266.994246\" xlink:href=\"#mb0e45f851a\" y=\"100.171895\"/>\n     <use style=\"fill:#1f77b4;stroke:#1f77b4;\" x=\"268.019441\" xlink:href=\"#mb0e45f851a\" y=\"25.070426\"/>\n     <use style=\"fill:#1f77b4;stroke:#1f77b4;\" x=\"269.647699\" xlink:href=\"#mb0e45f851a\" y=\"23.460176\"/>\n     <use style=\"fill:#1f77b4;stroke:#1f77b4;\" x=\"271.456889\" xlink:href=\"#mb0e45f851a\" y=\"149.058691\"/>\n     <use style=\"fill:#1f77b4;stroke:#1f77b4;\" x=\"271.637799\" xlink:href=\"#mb0e45f851a\" y=\"147.25522\"/>\n     <use style=\"fill:#1f77b4;stroke:#1f77b4;\" x=\"272.843926\" xlink:href=\"#mb0e45f851a\" y=\"159.686249\"/>\n     <use style=\"fill:#1f77b4;stroke:#1f77b4;\" x=\"275.376757\" xlink:href=\"#mb0e45f851a\" y=\"33.701293\"/>\n     <use style=\"fill:#1f77b4;stroke:#1f77b4;\" x=\"278.934805\" xlink:href=\"#mb0e45f851a\" y=\"56.502245\"/>\n     <use style=\"fill:#1f77b4;stroke:#1f77b4;\" x=\"279.115715\" xlink:href=\"#mb0e45f851a\" y=\"179.009112\"/>\n     <use style=\"fill:#1f77b4;stroke:#1f77b4;\" x=\"280.502752\" xlink:href=\"#mb0e45f851a\" y=\"68.868882\"/>\n     <use style=\"fill:#1f77b4;stroke:#1f77b4;\" x=\"282.01041\" xlink:href=\"#mb0e45f851a\" y=\"156.07933\"/>\n     <use style=\"fill:#1f77b4;stroke:#1f77b4;\" x=\"283.518047\" xlink:href=\"#mb0e45f851a\" y=\"48.579893\"/>\n     <use style=\"fill:#1f77b4;stroke:#1f77b4;\" x=\"284.30202\" xlink:href=\"#mb0e45f851a\" y=\"155.306401\"/>\n     <use style=\"fill:#1f77b4;stroke:#1f77b4;\" x=\"285.025705\" xlink:href=\"#mb0e45f851a\" y=\"56.373439\"/>\n     <use style=\"fill:#1f77b4;stroke:#1f77b4;\" x=\"288.101289\" xlink:href=\"#mb0e45f851a\" y=\"65.71282\"/>\n     <use style=\"fill:#1f77b4;stroke:#1f77b4;\" x=\"291.357805\" xlink:href=\"#mb0e45f851a\" y=\"146.61112\"/>\n     <use style=\"fill:#1f77b4;stroke:#1f77b4;\" x=\"293.166995\" xlink:href=\"#mb0e45f851a\" y=\"129.735851\"/>\n     <use style=\"fill:#1f77b4;stroke:#1f77b4;\" x=\"294.674631\" xlink:href=\"#mb0e45f851a\" y=\"125.291589\"/>\n     <use style=\"fill:#1f77b4;stroke:#1f77b4;\" x=\"295.338005\" xlink:href=\"#mb0e45f851a\" y=\"150.475697\"/>\n     <use style=\"fill:#1f77b4;stroke:#1f77b4;\" x=\"296.001358\" xlink:href=\"#mb0e45f851a\" y=\"103.778814\"/>\n     <use style=\"fill:#1f77b4;stroke:#1f77b4;\" x=\"296.785331\" xlink:href=\"#mb0e45f851a\" y=\"143.905937\"/>\n     <use style=\"fill:#1f77b4;stroke:#1f77b4;\" x=\"298.051769\" xlink:href=\"#mb0e45f851a\" y=\"52.766497\"/>\n     <use style=\"fill:#1f77b4;stroke:#1f77b4;\" x=\"299.921248\" xlink:href=\"#mb0e45f851a\" y=\"112.924974\"/>\n     <use style=\"fill:#1f77b4;stroke:#1f77b4;\" x=\"300.40369\" xlink:href=\"#mb0e45f851a\" y=\"152.923268\"/>\n     <use style=\"fill:#1f77b4;stroke:#1f77b4;\" x=\"301.851037\" xlink:href=\"#mb0e45f851a\" y=\"141.32956\"/>\n     <use style=\"fill:#1f77b4;stroke:#1f77b4;\" x=\"302.031948\" xlink:href=\"#mb0e45f851a\" y=\"91.347784\"/>\n     <use style=\"fill:#1f77b4;stroke:#1f77b4;\" x=\"302.031948\" xlink:href=\"#mb0e45f851a\" y=\"58.305716\"/>\n     <use style=\"fill:#1f77b4;stroke:#1f77b4;\" x=\"304.022048\" xlink:href=\"#mb0e45f851a\" y=\"145.194114\"/>\n     <use style=\"fill:#1f77b4;stroke:#1f77b4;\" x=\"304.263269\" xlink:href=\"#mb0e45f851a\" y=\"112.989366\"/>\n     <use style=\"fill:#1f77b4;stroke:#1f77b4;\" x=\"305.167842\" xlink:href=\"#mb0e45f851a\" y=\"78.401484\"/>\n     <use style=\"fill:#1f77b4;stroke:#1f77b4;\" x=\"305.288463\" xlink:href=\"#mb0e45f851a\" y=\"100.75158\"/>\n     <use style=\"fill:#1f77b4;stroke:#1f77b4;\" x=\"307.097632\" xlink:href=\"#mb0e45f851a\" y=\"109.318032\"/>\n     <use style=\"fill:#1f77b4;stroke:#1f77b4;\" x=\"307.580095\" xlink:href=\"#mb0e45f851a\" y=\"117.691264\"/>\n     <use style=\"fill:#1f77b4;stroke:#1f77b4;\" x=\"308.665601\" xlink:href=\"#mb0e45f851a\" y=\"71.058795\"/>\n     <use style=\"fill:#1f77b4;stroke:#1f77b4;\" x=\"311.258743\" xlink:href=\"#mb0e45f851a\" y=\"160.652399\"/>\n     <use style=\"fill:#1f77b4;stroke:#1f77b4;\" x=\"312.163338\" xlink:href=\"#mb0e45f851a\" y=\"113.891101\"/>\n     <use style=\"fill:#1f77b4;stroke:#1f77b4;\" x=\"317.409932\" xlink:href=\"#mb0e45f851a\" y=\"82.394868\"/>\n     <use style=\"fill:#1f77b4;stroke:#1f77b4;\" x=\"319.400032\" xlink:href=\"#mb0e45f851a\" y=\"87.998501\"/>\n     <use style=\"fill:#1f77b4;stroke:#1f77b4;\" x=\"320.96798\" xlink:href=\"#mb0e45f851a\" y=\"54.827603\"/>\n     <use style=\"fill:#1f77b4;stroke:#1f77b4;\" x=\"322.113796\" xlink:href=\"#mb0e45f851a\" y=\"145.194114\"/>\n     <use style=\"fill:#1f77b4;stroke:#1f77b4;\" x=\"322.475638\" xlink:href=\"#mb0e45f851a\" y=\"79.560855\"/>\n     <use style=\"fill:#1f77b4;stroke:#1f77b4;\" x=\"323.802364\" xlink:href=\"#mb0e45f851a\" y=\"143.197422\"/>\n     <use style=\"fill:#1f77b4;stroke:#1f77b4;\" x=\"323.922964\" xlink:href=\"#mb0e45f851a\" y=\"137.593812\"/>\n     <use style=\"fill:#1f77b4;stroke:#1f77b4;\" x=\"325.732154\" xlink:href=\"#mb0e45f851a\" y=\"94.954726\"/>\n     <use style=\"fill:#1f77b4;stroke:#1f77b4;\" x=\"329.35049\" xlink:href=\"#mb0e45f851a\" y=\"67.902732\"/>\n     <use style=\"fill:#1f77b4;stroke:#1f77b4;\" x=\"329.410801\" xlink:href=\"#mb0e45f851a\" y=\"84.58478\"/>\n     <use style=\"fill:#1f77b4;stroke:#1f77b4;\" x=\"333.029159\" xlink:href=\"#mb0e45f851a\" y=\"92.378349\"/>\n     <use style=\"fill:#1f77b4;stroke:#1f77b4;\" x=\"334.838328\" xlink:href=\"#mb0e45f851a\" y=\"141.265145\"/>\n     <use style=\"fill:#1f77b4;stroke:#1f77b4;\" x=\"336.587207\" xlink:href=\"#mb0e45f851a\" y=\"83.361018\"/>\n     <use style=\"fill:#1f77b4;stroke:#1f77b4;\" x=\"337.672712\" xlink:href=\"#mb0e45f851a\" y=\"75.567472\"/>\n     <use style=\"fill:#1f77b4;stroke:#1f77b4;\" x=\"340.205543\" xlink:href=\"#mb0e45f851a\" y=\"133.600405\"/>\n     <use style=\"fill:#1f77b4;stroke:#1f77b4;\" x=\"340.205543\" xlink:href=\"#mb0e45f851a\" y=\"122.006697\"/>\n     <use style=\"fill:#1f77b4;stroke:#1f77b4;\" x=\"340.265854\" xlink:href=\"#mb0e45f851a\" y=\"122.650797\"/>\n     <use style=\"fill:#1f77b4;stroke:#1f77b4;\" x=\"340.265854\" xlink:href=\"#mb0e45f851a\" y=\"114.213151\"/>\n     <use style=\"fill:#1f77b4;stroke:#1f77b4;\" x=\"343.582681\" xlink:href=\"#mb0e45f851a\" y=\"147.448464\"/>\n     <use style=\"fill:#1f77b4;stroke:#1f77b4;\" x=\"343.823902\" xlink:href=\"#mb0e45f851a\" y=\"102.683857\"/>\n     <use style=\"fill:#1f77b4;stroke:#1f77b4;\" x=\"343.884212\" xlink:href=\"#mb0e45f851a\" y=\"91.669834\"/>\n     <use style=\"fill:#1f77b4;stroke:#1f77b4;\" x=\"343.944523\" xlink:href=\"#mb0e45f851a\" y=\"129.156166\"/>\n     <use style=\"fill:#1f77b4;stroke:#1f77b4;\" x=\"344.909407\" xlink:href=\"#mb0e45f851a\" y=\"87.354401\"/>\n     <use style=\"fill:#1f77b4;stroke:#1f77b4;\" x=\"347.562859\" xlink:href=\"#mb0e45f851a\" y=\"100.687166\"/>\n     <use style=\"fill:#1f77b4;stroke:#1f77b4;\" x=\"349.191117\" xlink:href=\"#mb0e45f851a\" y=\"141.265145\"/>\n     <use style=\"fill:#1f77b4;stroke:#1f77b4;\" x=\"349.61327\" xlink:href=\"#mb0e45f851a\" y=\"121.942305\"/>\n     <use style=\"fill:#1f77b4;stroke:#1f77b4;\" x=\"349.73387\" xlink:href=\"#mb0e45f851a\" y=\"109.124812\"/>\n     <use style=\"fill:#1f77b4;stroke:#1f77b4;\" x=\"349.914802\" xlink:href=\"#mb0e45f851a\" y=\"76.791234\"/>\n     <use style=\"fill:#1f77b4;stroke:#1f77b4;\" x=\"351.120907\" xlink:href=\"#mb0e45f851a\" y=\"126.515374\"/>\n     <use style=\"fill:#1f77b4;stroke:#1f77b4;\" x=\"354.618644\" xlink:href=\"#mb0e45f851a\" y=\"123.294897\"/>\n     <use style=\"fill:#1f77b4;stroke:#1f77b4;\" x=\"356.427834\" xlink:href=\"#mb0e45f851a\" y=\"103.907643\"/>\n     <use style=\"fill:#1f77b4;stroke:#1f77b4;\" x=\"358.297313\" xlink:href=\"#mb0e45f851a\" y=\"110.412989\"/>\n     <use style=\"fill:#1f77b4;stroke:#1f77b4;\" x=\"359.804949\" xlink:href=\"#mb0e45f851a\" y=\"121.427011\"/>\n     <use style=\"fill:#1f77b4;stroke:#1f77b4;\" x=\"359.804949\" xlink:href=\"#mb0e45f851a\" y=\"108.995982\"/>\n     <use style=\"fill:#1f77b4;stroke:#1f77b4;\" x=\"361.915649\" xlink:href=\"#mb0e45f851a\" y=\"110.412989\"/>\n     <use style=\"fill:#1f77b4;stroke:#1f77b4;\" x=\"361.915649\" xlink:href=\"#mb0e45f851a\" y=\"91.090149\"/>\n     <use style=\"fill:#1f77b4;stroke:#1f77b4;\" x=\"365.594318\" xlink:href=\"#mb0e45f851a\" y=\"135.597097\"/>\n    </g>\n   </g>\n   <g id=\"matplotlib.axis_1\">\n    <g id=\"xtick_1\">\n     <g id=\"line2d_1\">\n      <defs>\n       <path d=\"M 0 0 \nL 0 3.5 \n\" id=\"m1ce687f748\" style=\"stroke:#000000;stroke-width:0.8;\"/>\n      </defs>\n      <g>\n       <use style=\"stroke:#000000;stroke-width:0.8;\" x=\"72.447577\" xlink:href=\"#m1ce687f748\" y=\"224.64\"/>\n      </g>\n     </g>\n     <g id=\"text_1\">\n      <!-- 24800 -->\n      <g transform=\"translate(56.541327 239.238438)scale(0.1 -0.1)\">\n       <defs>\n        <path d=\"M 19.1875 8.296875 \nL 53.609375 8.296875 \nL 53.609375 0 \nL 7.328125 0 \nL 7.328125 8.296875 \nQ 12.9375 14.109375 22.625 23.890625 \nQ 32.328125 33.6875 34.8125 36.53125 \nQ 39.546875 41.84375 41.421875 45.53125 \nQ 43.3125 49.21875 43.3125 52.78125 \nQ 43.3125 58.59375 39.234375 62.25 \nQ 35.15625 65.921875 28.609375 65.921875 \nQ 23.96875 65.921875 18.8125 64.3125 \nQ 13.671875 62.703125 7.8125 59.421875 \nL 7.8125 69.390625 \nQ 13.765625 71.78125 18.9375 73 \nQ 24.125 74.21875 28.421875 74.21875 \nQ 39.75 74.21875 46.484375 68.546875 \nQ 53.21875 62.890625 53.21875 53.421875 \nQ 53.21875 48.921875 51.53125 44.890625 \nQ 49.859375 40.875 45.40625 35.40625 \nQ 44.1875 33.984375 37.640625 27.21875 \nQ 31.109375 20.453125 19.1875 8.296875 \nz\n\" id=\"DejaVuSans-50\"/>\n        <path d=\"M 37.796875 64.3125 \nL 12.890625 25.390625 \nL 37.796875 25.390625 \nz\nM 35.203125 72.90625 \nL 47.609375 72.90625 \nL 47.609375 25.390625 \nL 58.015625 25.390625 \nL 58.015625 17.1875 \nL 47.609375 17.1875 \nL 47.609375 0 \nL 37.796875 0 \nL 37.796875 17.1875 \nL 4.890625 17.1875 \nL 4.890625 26.703125 \nz\n\" id=\"DejaVuSans-52\"/>\n        <path d=\"M 31.78125 34.625 \nQ 24.75 34.625 20.71875 30.859375 \nQ 16.703125 27.09375 16.703125 20.515625 \nQ 16.703125 13.921875 20.71875 10.15625 \nQ 24.75 6.390625 31.78125 6.390625 \nQ 38.8125 6.390625 42.859375 10.171875 \nQ 46.921875 13.96875 46.921875 20.515625 \nQ 46.921875 27.09375 42.890625 30.859375 \nQ 38.875 34.625 31.78125 34.625 \nz\nM 21.921875 38.8125 \nQ 15.578125 40.375 12.03125 44.71875 \nQ 8.5 49.078125 8.5 55.328125 \nQ 8.5 64.0625 14.71875 69.140625 \nQ 20.953125 74.21875 31.78125 74.21875 \nQ 42.671875 74.21875 48.875 69.140625 \nQ 55.078125 64.0625 55.078125 55.328125 \nQ 55.078125 49.078125 51.53125 44.71875 \nQ 48 40.375 41.703125 38.8125 \nQ 48.828125 37.15625 52.796875 32.3125 \nQ 56.78125 27.484375 56.78125 20.515625 \nQ 56.78125 9.90625 50.3125 4.234375 \nQ 43.84375 -1.421875 31.78125 -1.421875 \nQ 19.734375 -1.421875 13.25 4.234375 \nQ 6.78125 9.90625 6.78125 20.515625 \nQ 6.78125 27.484375 10.78125 32.3125 \nQ 14.796875 37.15625 21.921875 38.8125 \nz\nM 18.3125 54.390625 \nQ 18.3125 48.734375 21.84375 45.5625 \nQ 25.390625 42.390625 31.78125 42.390625 \nQ 38.140625 42.390625 41.71875 45.5625 \nQ 45.3125 48.734375 45.3125 54.390625 \nQ 45.3125 60.0625 41.71875 63.234375 \nQ 38.140625 66.40625 31.78125 66.40625 \nQ 25.390625 66.40625 21.84375 63.234375 \nQ 18.3125 60.0625 18.3125 54.390625 \nz\n\" id=\"DejaVuSans-56\"/>\n        <path d=\"M 31.78125 66.40625 \nQ 24.171875 66.40625 20.328125 58.90625 \nQ 16.5 51.421875 16.5 36.375 \nQ 16.5 21.390625 20.328125 13.890625 \nQ 24.171875 6.390625 31.78125 6.390625 \nQ 39.453125 6.390625 43.28125 13.890625 \nQ 47.125 21.390625 47.125 36.375 \nQ 47.125 51.421875 43.28125 58.90625 \nQ 39.453125 66.40625 31.78125 66.40625 \nz\nM 31.78125 74.21875 \nQ 44.046875 74.21875 50.515625 64.515625 \nQ 56.984375 54.828125 56.984375 36.375 \nQ 56.984375 17.96875 50.515625 8.265625 \nQ 44.046875 -1.421875 31.78125 -1.421875 \nQ 19.53125 -1.421875 13.0625 8.265625 \nQ 6.59375 17.96875 6.59375 36.375 \nQ 6.59375 54.828125 13.0625 64.515625 \nQ 19.53125 74.21875 31.78125 74.21875 \nz\n\" id=\"DejaVuSans-48\"/>\n       </defs>\n       <use xlink:href=\"#DejaVuSans-50\"/>\n       <use x=\"63.623047\" xlink:href=\"#DejaVuSans-52\"/>\n       <use x=\"127.246094\" xlink:href=\"#DejaVuSans-56\"/>\n       <use x=\"190.869141\" xlink:href=\"#DejaVuSans-48\"/>\n       <use x=\"254.492188\" xlink:href=\"#DejaVuSans-48\"/>\n      </g>\n     </g>\n    </g>\n    <g id=\"xtick_2\">\n     <g id=\"line2d_2\">\n      <g>\n       <use style=\"stroke:#000000;stroke-width:0.8;\" x=\"115.867789\" xlink:href=\"#m1ce687f748\" y=\"224.64\"/>\n      </g>\n     </g>\n     <g id=\"text_2\">\n      <!-- 25000 -->\n      <g transform=\"translate(99.961539 239.238438)scale(0.1 -0.1)\">\n       <defs>\n        <path d=\"M 10.796875 72.90625 \nL 49.515625 72.90625 \nL 49.515625 64.59375 \nL 19.828125 64.59375 \nL 19.828125 46.734375 \nQ 21.96875 47.46875 24.109375 47.828125 \nQ 26.265625 48.1875 28.421875 48.1875 \nQ 40.625 48.1875 47.75 41.5 \nQ 54.890625 34.8125 54.890625 23.390625 \nQ 54.890625 11.625 47.5625 5.09375 \nQ 40.234375 -1.421875 26.90625 -1.421875 \nQ 22.3125 -1.421875 17.546875 -0.640625 \nQ 12.796875 0.140625 7.71875 1.703125 \nL 7.71875 11.625 \nQ 12.109375 9.234375 16.796875 8.0625 \nQ 21.484375 6.890625 26.703125 6.890625 \nQ 35.15625 6.890625 40.078125 11.328125 \nQ 45.015625 15.765625 45.015625 23.390625 \nQ 45.015625 31 40.078125 35.4375 \nQ 35.15625 39.890625 26.703125 39.890625 \nQ 22.75 39.890625 18.8125 39.015625 \nQ 14.890625 38.140625 10.796875 36.28125 \nz\n\" id=\"DejaVuSans-53\"/>\n       </defs>\n       <use xlink:href=\"#DejaVuSans-50\"/>\n       <use x=\"63.623047\" xlink:href=\"#DejaVuSans-53\"/>\n       <use x=\"127.246094\" xlink:href=\"#DejaVuSans-48\"/>\n       <use x=\"190.869141\" xlink:href=\"#DejaVuSans-48\"/>\n       <use x=\"254.492188\" xlink:href=\"#DejaVuSans-48\"/>\n      </g>\n     </g>\n    </g>\n    <g id=\"xtick_3\">\n     <g id=\"line2d_3\">\n      <g>\n       <use style=\"stroke:#000000;stroke-width:0.8;\" x=\"159.288001\" xlink:href=\"#m1ce687f748\" y=\"224.64\"/>\n      </g>\n     </g>\n     <g id=\"text_3\">\n      <!-- 25200 -->\n      <g transform=\"translate(143.381751 239.238438)scale(0.1 -0.1)\">\n       <use xlink:href=\"#DejaVuSans-50\"/>\n       <use x=\"63.623047\" xlink:href=\"#DejaVuSans-53\"/>\n       <use x=\"127.246094\" xlink:href=\"#DejaVuSans-50\"/>\n       <use x=\"190.869141\" xlink:href=\"#DejaVuSans-48\"/>\n       <use x=\"254.492188\" xlink:href=\"#DejaVuSans-48\"/>\n      </g>\n     </g>\n    </g>\n    <g id=\"xtick_4\">\n     <g id=\"line2d_4\">\n      <g>\n       <use style=\"stroke:#000000;stroke-width:0.8;\" x=\"202.708213\" xlink:href=\"#m1ce687f748\" y=\"224.64\"/>\n      </g>\n     </g>\n     <g id=\"text_4\">\n      <!-- 25400 -->\n      <g transform=\"translate(186.801963 239.238438)scale(0.1 -0.1)\">\n       <use xlink:href=\"#DejaVuSans-50\"/>\n       <use x=\"63.623047\" xlink:href=\"#DejaVuSans-53\"/>\n       <use x=\"127.246094\" xlink:href=\"#DejaVuSans-52\"/>\n       <use x=\"190.869141\" xlink:href=\"#DejaVuSans-48\"/>\n       <use x=\"254.492188\" xlink:href=\"#DejaVuSans-48\"/>\n      </g>\n     </g>\n    </g>\n    <g id=\"xtick_5\">\n     <g id=\"line2d_5\">\n      <g>\n       <use style=\"stroke:#000000;stroke-width:0.8;\" x=\"246.128425\" xlink:href=\"#m1ce687f748\" y=\"224.64\"/>\n      </g>\n     </g>\n     <g id=\"text_5\">\n      <!-- 25600 -->\n      <g transform=\"translate(230.222175 239.238438)scale(0.1 -0.1)\">\n       <defs>\n        <path d=\"M 33.015625 40.375 \nQ 26.375 40.375 22.484375 35.828125 \nQ 18.609375 31.296875 18.609375 23.390625 \nQ 18.609375 15.53125 22.484375 10.953125 \nQ 26.375 6.390625 33.015625 6.390625 \nQ 39.65625 6.390625 43.53125 10.953125 \nQ 47.40625 15.53125 47.40625 23.390625 \nQ 47.40625 31.296875 43.53125 35.828125 \nQ 39.65625 40.375 33.015625 40.375 \nz\nM 52.59375 71.296875 \nL 52.59375 62.3125 \nQ 48.875 64.0625 45.09375 64.984375 \nQ 41.3125 65.921875 37.59375 65.921875 \nQ 27.828125 65.921875 22.671875 59.328125 \nQ 17.53125 52.734375 16.796875 39.40625 \nQ 19.671875 43.65625 24.015625 45.921875 \nQ 28.375 48.1875 33.59375 48.1875 \nQ 44.578125 48.1875 50.953125 41.515625 \nQ 57.328125 34.859375 57.328125 23.390625 \nQ 57.328125 12.15625 50.6875 5.359375 \nQ 44.046875 -1.421875 33.015625 -1.421875 \nQ 20.359375 -1.421875 13.671875 8.265625 \nQ 6.984375 17.96875 6.984375 36.375 \nQ 6.984375 53.65625 15.1875 63.9375 \nQ 23.390625 74.21875 37.203125 74.21875 \nQ 40.921875 74.21875 44.703125 73.484375 \nQ 48.484375 72.75 52.59375 71.296875 \nz\n\" id=\"DejaVuSans-54\"/>\n       </defs>\n       <use xlink:href=\"#DejaVuSans-50\"/>\n       <use x=\"63.623047\" xlink:href=\"#DejaVuSans-53\"/>\n       <use x=\"127.246094\" xlink:href=\"#DejaVuSans-54\"/>\n       <use x=\"190.869141\" xlink:href=\"#DejaVuSans-48\"/>\n       <use x=\"254.492188\" xlink:href=\"#DejaVuSans-48\"/>\n      </g>\n     </g>\n    </g>\n    <g id=\"xtick_6\">\n     <g id=\"line2d_6\">\n      <g>\n       <use style=\"stroke:#000000;stroke-width:0.8;\" x=\"289.548637\" xlink:href=\"#m1ce687f748\" y=\"224.64\"/>\n      </g>\n     </g>\n     <g id=\"text_6\">\n      <!-- 25800 -->\n      <g transform=\"translate(273.642387 239.238438)scale(0.1 -0.1)\">\n       <use xlink:href=\"#DejaVuSans-50\"/>\n       <use x=\"63.623047\" xlink:href=\"#DejaVuSans-53\"/>\n       <use x=\"127.246094\" xlink:href=\"#DejaVuSans-56\"/>\n       <use x=\"190.869141\" xlink:href=\"#DejaVuSans-48\"/>\n       <use x=\"254.492188\" xlink:href=\"#DejaVuSans-48\"/>\n      </g>\n     </g>\n    </g>\n    <g id=\"xtick_7\">\n     <g id=\"line2d_7\">\n      <g>\n       <use style=\"stroke:#000000;stroke-width:0.8;\" x=\"332.968849\" xlink:href=\"#m1ce687f748\" y=\"224.64\"/>\n      </g>\n     </g>\n     <g id=\"text_7\">\n      <!-- 26000 -->\n      <g transform=\"translate(317.062599 239.238438)scale(0.1 -0.1)\">\n       <use xlink:href=\"#DejaVuSans-50\"/>\n       <use x=\"63.623047\" xlink:href=\"#DejaVuSans-54\"/>\n       <use x=\"127.246094\" xlink:href=\"#DejaVuSans-48\"/>\n       <use x=\"190.869141\" xlink:href=\"#DejaVuSans-48\"/>\n       <use x=\"254.492188\" xlink:href=\"#DejaVuSans-48\"/>\n      </g>\n     </g>\n    </g>\n    <g id=\"xtick_8\">\n     <g id=\"line2d_8\">\n      <g>\n       <use style=\"stroke:#000000;stroke-width:0.8;\" x=\"376.38906\" xlink:href=\"#m1ce687f748\" y=\"224.64\"/>\n      </g>\n     </g>\n     <g id=\"text_8\">\n      <!-- 26200 -->\n      <g transform=\"translate(360.48281 239.238438)scale(0.1 -0.1)\">\n       <use xlink:href=\"#DejaVuSans-50\"/>\n       <use x=\"63.623047\" xlink:href=\"#DejaVuSans-54\"/>\n       <use x=\"127.246094\" xlink:href=\"#DejaVuSans-50\"/>\n       <use x=\"190.869141\" xlink:href=\"#DejaVuSans-48\"/>\n       <use x=\"254.492188\" xlink:href=\"#DejaVuSans-48\"/>\n      </g>\n     </g>\n    </g>\n   </g>\n   <g id=\"matplotlib.axis_2\">\n    <g id=\"ytick_1\">\n     <g id=\"line2d_9\">\n      <defs>\n       <path d=\"M 0 0 \nL -3.5 0 \n\" id=\"m9e8fac6567\" style=\"stroke:#000000;stroke-width:0.8;\"/>\n      </defs>\n      <g>\n       <use style=\"stroke:#000000;stroke-width:0.8;\" x=\"46.0125\" xlink:href=\"#m9e8fac6567\" y=\"207.027232\"/>\n      </g>\n     </g>\n     <g id=\"text_9\">\n      <!-- 50800 -->\n      <g transform=\"translate(7.2 210.826451)scale(0.1 -0.1)\">\n       <use xlink:href=\"#DejaVuSans-53\"/>\n       <use x=\"63.623047\" xlink:href=\"#DejaVuSans-48\"/>\n       <use x=\"127.246094\" xlink:href=\"#DejaVuSans-56\"/>\n       <use x=\"190.869141\" xlink:href=\"#DejaVuSans-48\"/>\n       <use x=\"254.492188\" xlink:href=\"#DejaVuSans-48\"/>\n      </g>\n     </g>\n    </g>\n    <g id=\"ytick_2\">\n     <g id=\"line2d_10\">\n      <g>\n       <use style=\"stroke:#000000;stroke-width:0.8;\" x=\"46.0125\" xlink:href=\"#m9e8fac6567\" y=\"160.652399\"/>\n      </g>\n     </g>\n     <g id=\"text_10\">\n      <!-- 51000 -->\n      <g transform=\"translate(7.2 164.451618)scale(0.1 -0.1)\">\n       <defs>\n        <path d=\"M 12.40625 8.296875 \nL 28.515625 8.296875 \nL 28.515625 63.921875 \nL 10.984375 60.40625 \nL 10.984375 69.390625 \nL 28.421875 72.90625 \nL 38.28125 72.90625 \nL 38.28125 8.296875 \nL 54.390625 8.296875 \nL 54.390625 0 \nL 12.40625 0 \nz\n\" id=\"DejaVuSans-49\"/>\n       </defs>\n       <use xlink:href=\"#DejaVuSans-53\"/>\n       <use x=\"63.623047\" xlink:href=\"#DejaVuSans-49\"/>\n       <use x=\"127.246094\" xlink:href=\"#DejaVuSans-48\"/>\n       <use x=\"190.869141\" xlink:href=\"#DejaVuSans-48\"/>\n       <use x=\"254.492188\" xlink:href=\"#DejaVuSans-48\"/>\n      </g>\n     </g>\n    </g>\n    <g id=\"ytick_3\">\n     <g id=\"line2d_11\">\n      <g>\n       <use style=\"stroke:#000000;stroke-width:0.8;\" x=\"46.0125\" xlink:href=\"#m9e8fac6567\" y=\"114.277566\"/>\n      </g>\n     </g>\n     <g id=\"text_11\">\n      <!-- 51200 -->\n      <g transform=\"translate(7.2 118.076784)scale(0.1 -0.1)\">\n       <use xlink:href=\"#DejaVuSans-53\"/>\n       <use x=\"63.623047\" xlink:href=\"#DejaVuSans-49\"/>\n       <use x=\"127.246094\" xlink:href=\"#DejaVuSans-50\"/>\n       <use x=\"190.869141\" xlink:href=\"#DejaVuSans-48\"/>\n       <use x=\"254.492188\" xlink:href=\"#DejaVuSans-48\"/>\n      </g>\n     </g>\n    </g>\n    <g id=\"ytick_4\">\n     <g id=\"line2d_12\">\n      <g>\n       <use style=\"stroke:#000000;stroke-width:0.8;\" x=\"46.0125\" xlink:href=\"#m9e8fac6567\" y=\"67.902732\"/>\n      </g>\n     </g>\n     <g id=\"text_12\">\n      <!-- 51400 -->\n      <g transform=\"translate(7.2 71.701951)scale(0.1 -0.1)\">\n       <use xlink:href=\"#DejaVuSans-53\"/>\n       <use x=\"63.623047\" xlink:href=\"#DejaVuSans-49\"/>\n       <use x=\"127.246094\" xlink:href=\"#DejaVuSans-52\"/>\n       <use x=\"190.869141\" xlink:href=\"#DejaVuSans-48\"/>\n       <use x=\"254.492188\" xlink:href=\"#DejaVuSans-48\"/>\n      </g>\n     </g>\n    </g>\n    <g id=\"ytick_5\">\n     <g id=\"line2d_13\">\n      <g>\n       <use style=\"stroke:#000000;stroke-width:0.8;\" x=\"46.0125\" xlink:href=\"#m9e8fac6567\" y=\"21.527899\"/>\n      </g>\n     </g>\n     <g id=\"text_13\">\n      <!-- 51600 -->\n      <g transform=\"translate(7.2 25.327118)scale(0.1 -0.1)\">\n       <use xlink:href=\"#DejaVuSans-53\"/>\n       <use x=\"63.623047\" xlink:href=\"#DejaVuSans-49\"/>\n       <use x=\"127.246094\" xlink:href=\"#DejaVuSans-54\"/>\n       <use x=\"190.869141\" xlink:href=\"#DejaVuSans-48\"/>\n       <use x=\"254.492188\" xlink:href=\"#DejaVuSans-48\"/>\n      </g>\n     </g>\n    </g>\n   </g>\n   <g id=\"patch_3\">\n    <path d=\"M 46.0125 224.64 \nL 46.0125 7.2 \n\" style=\"fill:none;stroke:#000000;stroke-linecap:square;stroke-linejoin:miter;stroke-width:0.8;\"/>\n   </g>\n   <g id=\"patch_4\">\n    <path d=\"M 380.8125 224.64 \nL 380.8125 7.2 \n\" style=\"fill:none;stroke:#000000;stroke-linecap:square;stroke-linejoin:miter;stroke-width:0.8;\"/>\n   </g>\n   <g id=\"patch_5\">\n    <path d=\"M 46.0125 224.64 \nL 380.8125 224.64 \n\" style=\"fill:none;stroke:#000000;stroke-linecap:square;stroke-linejoin:miter;stroke-width:0.8;\"/>\n   </g>\n   <g id=\"patch_6\">\n    <path d=\"M 46.0125 7.2 \nL 380.8125 7.2 \n\" style=\"fill:none;stroke:#000000;stroke-linecap:square;stroke-linejoin:miter;stroke-width:0.8;\"/>\n   </g>\n  </g>\n </g>\n <defs>\n  <clipPath id=\"p4032a8f699\">\n   <rect height=\"217.44\" width=\"334.8\" x=\"46.0125\" y=\"7.2\"/>\n  </clipPath>\n </defs>\n</svg>\n",
      "image/png": "[encoded data removed]"
     },
     "metadata": {
      "needs_background": "light"
     }
    }
   ],
   "source": [
    "plt.scatter(cities[:, 0], cities[:, 1], marker=\".\")"
   ]
  },
  {
   "cell_type": "code",
   "execution_count": 5,
   "metadata": {},
   "outputs": [],
   "source": [
    "def d(i, j):\n",
    "    return np.linalg.norm(cities[i, :] - cities[j, :])"
   ]
  },
  {
   "cell_type": "code",
   "execution_count": 6,
   "metadata": {},
   "outputs": [
    {
     "output_type": "execute_result",
     "data": {
      "text/plain": [
       "372.0941512342277"
      ]
     },
     "metadata": {},
     "execution_count": 6
    }
   ],
   "source": [
    "d(0, 1)"
   ]
  },
  {
   "cell_type": "code",
   "execution_count": 7,
   "metadata": {},
   "outputs": [],
   "source": [
    "class Individual:\n",
    "    def __init__(self, genome):\n",
    "        self.genome = genome\n",
    "        self.fitness = sum(\n",
    "            [d(genome[i], genome[i + 1]) for i in range(0, len(genome) - 1)]\n",
    "        ) + d(genome[len(genome) - 1], genome[0])\n",
    "\n",
    "    # Muta al individuo\n",
    "    def mutate(self):\n",
    "        genome = np.copy(self.genome)\n",
    "        i, j = np.random.choice(len(genome), size=2, replace=False)\n",
    "        genome[i], genome[j] = genome[j], genome[i]\n",
    "        return Individual(genome)\n",
    "\n",
    "    # Two point crossover\n",
    "    def cross(self, q):\n",
    "        child = np.copy(self.genome)\n",
    "        start, end = np.sort(np.random.choice(len(child), size=2, replace=False))\n",
    "        child[:start] = child[end + 1 :] = -1\n",
    "        child[child == -1] = np.setdiff1d(q.genome, child, assume_unique=True)\n",
    "        return Individual(child)\n",
    "\n",
    "    def __lt__(self, other):\n",
    "        return self.fitness < other.fitness\n",
    "\n",
    "    def __gt__(self, other):\n",
    "        return self.fitness > other.fitness\n",
    "\n",
    "    def __repr__(self):\n",
    "        return \"Individual(genome: {0}, fitness: {1})\".format(\n",
    "            self.genome.__str__(), self.fitness\n",
    "        )"
   ]
  },
  {
   "cell_type": "code",
   "execution_count": 8,
   "metadata": {},
   "outputs": [
    {
     "output_type": "execute_result",
     "data": {
      "text/plain": [
       "1167.5008205274476"
      ]
     },
     "metadata": {},
     "execution_count": 8
    }
   ],
   "source": [
    "i = Individual(np.array([0, 5, 10, 15]))\n",
    "i.fitness"
   ]
  },
  {
   "cell_type": "code",
   "execution_count": 9,
   "metadata": {},
   "outputs": [
    {
     "output_type": "execute_result",
     "data": {
      "text/plain": [
       "(array([ 5,  0, 10, 15]),\n",
       " 1166.451021692572,\n",
       " array([ 0,  5, 10, 15]),\n",
       " 1167.5008205274476)"
      ]
     },
     "metadata": {},
     "execution_count": 9
    }
   ],
   "source": [
    "o = i.mutate()\n",
    "o.genome, o.fitness, i.genome, i.fitness"
   ]
  },
  {
   "cell_type": "code",
   "execution_count": 10,
   "metadata": {},
   "outputs": [
    {
     "output_type": "execute_result",
     "data": {
      "text/plain": [
       "(array([1, 2, 3, 4, 5]), array([2, 1, 3, 5, 4]), array([1, 2, 3, 5, 4]))"
      ]
     },
     "metadata": {},
     "execution_count": 10
    }
   ],
   "source": [
    "a = Individual(np.array([1, 2, 3, 4, 5]))\n",
    "b = Individual(np.array([2, 1, 3, 5, 4]))\n",
    "c = a.cross(b)\n",
    "a.genome, b.genome, c.genome"
   ]
  },
  {
   "cell_type": "code",
   "execution_count": 11,
   "metadata": {},
   "outputs": [],
   "source": [
    "# DEPRECATED: Lo generaliza greedy_popuation con ratio=0\n",
    "def random_population(n_population):\n",
    "    # TODO: Generar individuos aleatorios\n",
    "    return np.array(\n",
    "        [Individual(np.random.permutation(n_cities)) for _ in range(n_population)]\n",
    "    )"
   ]
  },
  {
   "cell_type": "code",
   "execution_count": 12,
   "id": "256ce098",
   "metadata": {},
   "outputs": [],
   "source": [
    "def greedy_popuation(n_population, ratio=1 / 2):\n",
    "    \"\"\"\n",
    "    Genera población parte aleatoria parte generada mediante nearest neighbours\n",
    "\n",
    "    Args:\n",
    "        n_population: Tamaño total de la población\n",
    "        ratio: Qué porcentaje de la población se genera greedily. 0 -> toda random\n",
    "    \"\"\"\n",
    "    # Guardamos la población generada en population\n",
    "    population = []\n",
    "\n",
    "    # Primero generamos los de nearest neighbours\n",
    "    n_greedy = round(n_population * ratio)\n",
    "    n_random = n_population - n_greedy\n",
    "\n",
    "    for _ in range(n_greedy):\n",
    "        # Anotamos las ciudades visitadas modificando una copia de la lista de ciudades. Las\n",
    "        # visitadas se vuelven nan. Asi se excluyen del cálculo de distancias.\n",
    "        visitados = []\n",
    "        index = range(len(cities))\n",
    "        # Elegimos ciudad al azar\n",
    "        curr_city = np.random.randint(0, len(cities))\n",
    "        visitados.append(curr_city)\n",
    "        city_record = np.copy(cities)\n",
    "\n",
    "        while len(visitados) != len(index):\n",
    "            city_record[curr_city] = np.nan\n",
    "\n",
    "            distancias = la.norm(city_record - cities[curr_city], axis=1)\n",
    "            # Tomamos la ciudad más cercana como actual\n",
    "            curr_city = np.nanargmin(distancias)\n",
    "            visitados.append(curr_city)\n",
    "\n",
    "        # Añadiendo el individuo a la población\n",
    "        population.append(Individual(visitados))\n",
    "\n",
    "    # Generamos el resto de la población aleatoriamente\n",
    "    population = population + [\n",
    "        Individual(np.random.permutation(n_cities)) for _ in range(n_random)\n",
    "    ]\n",
    "\n",
    "    return np.array(population)"
   ]
  },
  {
   "cell_type": "code",
   "execution_count": 13,
   "metadata": {},
   "outputs": [],
   "source": [
    "# El de menor fitness es el que tiene más probabilidades de reproducirse\n",
    "def calculate_wheel_probability(population):\n",
    "    fitnesses = np.array([p.fitness for p in population])\n",
    "    # fitnesses = np.min(fitnesses) + np.max(fitnesses) - fitnesses\n",
    "    # return fitnesses / np.sum(fitnesses)\n",
    "    fitnesses = np.max(fitnesses) + 1 - fitnesses\n",
    "    s = np.sum(fitnesses)\n",
    "    return fitnesses / s"
   ]
  },
  {
   "cell_type": "code",
   "execution_count": 14,
   "metadata": {},
   "outputs": [
    {
     "output_type": "execute_result",
     "data": {
      "text/plain": [
       "array([0.32789048, 0.67210952])"
      ]
     },
     "metadata": {},
     "execution_count": 14
    }
   ],
   "source": [
    "calculate_wheel_probability([i, o])"
   ]
  },
  {
   "cell_type": "code",
   "execution_count": 15,
   "metadata": {},
   "outputs": [],
   "source": [
    "def GA(\n",
    "    n_population=100,\n",
    "    n_generation=1000,\n",
    "    cross_rate=0.3,\n",
    "    mutate_rate=0.2,\n",
    "    greedy_rate=0,\n",
    "    verbose=False,\n",
    "    print_interval=10,\n",
    "):\n",
    "    \"\"\"\n",
    "    Resuelve el problema del agente viajero mediante una versión modificada de la estrategia del \n",
    "    algoritmos genéticos. Se genera una población del tamaño especificado y con las características \n",
    "    de aleatoriedad deseadas.\n",
    "\n",
    "    Args:\n",
    "        n_population: Tamaño total de la población\n",
    "        n_generation: Número de generaciones\n",
    "        cross_rate:\n",
    "        mutate_rate:\n",
    "        greedy_rate: Porcentaje de la población inicial que se genera mediante nearest neighbours\n",
    "        verbose: Controla la cantidad de información que imprime el algoritmo\n",
    "    \"\"\"\n",
    "    # Para la generación 0\n",
    "    # Pk = random_population(n_population)\n",
    "    Pk = greedy_popuation(n_population, greedy_rate)\n",
    "    best_individual = Pk[Pk.argmin()]\n",
    "    for k in range(1, n_generation):\n",
    "        # Creamos la siguiente generacion\n",
    "        Pk_next = np.array([])\n",
    "        # Para seleccionar usamos wheel roulette selection\n",
    "        # Calculamos la wheel probability\n",
    "        wheel_prob = calculate_wheel_probability(Pk)\n",
    "\n",
    "        # 1. Copy: seleccionamos (1 − cross_rate) × n individuos de Pk y los insertamos en Pk+1\n",
    "        Pk_next = np.append(\n",
    "            Pk_next,\n",
    "            np.random.choice(\n",
    "                Pk, round((1 - cross_rate) * n_population), p=wheel_prob, replace=False\n",
    "            ),\n",
    "        )\n",
    "\n",
    "        # 2. Crossover: seleccionamos (cross_rate * n) parejas de Pk y los cruzamos para añadirlos en Pk+1\n",
    "        parejas = np.random.choice(\n",
    "            Pk, 2 * round(cross_rate * n_population), p=wheel_prob, replace=False\n",
    "        ).reshape(-1, 2)\n",
    "        Pk_next = np.append(Pk_next, [p.cross(q) for p, q in parejas])\n",
    "\n",
    "        # 3. Mutate: seleccionamos mutate_rate de la población Pk+1 y la mutamos\n",
    "        mutate_index = np.random.choice(\n",
    "            len(Pk_next), int(mutate_rate * len(Pk_next)), replace=False\n",
    "        )\n",
    "        Pk_next[mutate_index] = np.array([x.mutate() for x in Pk_next[mutate_index]])\n",
    "\n",
    "        # Acualizamos la generación\n",
    "        Pk = Pk_next\n",
    "        if Pk[Pk.argmin()] < best_individual:\n",
    "            best_individual = Pk[Pk.argmin()]\n",
    "\n",
    "        # Imprimimos status\n",
    "        if verbose is True or k % print_interval == 0:\n",
    "            print(f\"Generation {k}: {best_individual}\")\n",
    "            # print(Pk)\n",
    "\n",
    "    return best_individual"
   ]
  },
  {
   "cell_type": "code",
   "execution_count": 16,
   "metadata": {},
   "outputs": [
    {
     "output_type": "stream",
     "name": "stdout",
     "text": [
      "Generation 1: Individual(genome: [111  65  34 ... 138 150 125], fitness: 87371.99531111222)\n",
      "Generation 2: Individual(genome: [111  65  34 ... 138 150 125], fitness: 87371.99531111222)\n",
      "Generation 3: Individual(genome: [111  65  34 ... 138 150 125], fitness: 87371.99531111222)\n",
      "Generation 4: Individual(genome: [165  90 120 ... 105  59  53], fitness: 86849.45034567057)\n",
      "Generation 5: Individual(genome: [165  90 120 ... 105  59  53], fitness: 86180.27270114262)\n",
      "Generation 6: Individual(genome: [165  90 120 ... 105  59  53], fitness: 86180.27270114262)\n",
      "Generation 7: Individual(genome: [165  90 120 ... 105  59  53], fitness: 86180.27270114262)\n",
      "Generation 8: Individual(genome: [ 65  34 106 ... 190 138 150], fitness: 85881.15200650919)\n",
      "Generation 9: Individual(genome: [ 65  34 106 ... 190 138 150], fitness: 85881.15200650919)\n"
     ]
    },
    {
     "output_type": "execute_result",
     "data": {
      "text/plain": [
       "Individual(genome: [ 65  34 106 ... 190 138 150], fitness: 85881.15200650919)"
      ]
     },
     "metadata": {},
     "execution_count": 16
    }
   ],
   "source": [
    "GA(n_population=20, n_generation=10, verbose=True)"
   ]
  },
  {
   "cell_type": "code",
   "execution_count": 17,
   "id": "e535b78a",
   "metadata": {
    "tags": []
   },
   "outputs": [
    {
     "output_type": "stream",
     "name": "stdout",
     "text": [
      "Generation 1: Individual(genome: [50, 46, 38, 33, 39, 42, 40, 37, 45, 47, 51, 52, 53, 54, 48, 41, 43, 34, 31, 29, 30, 49, 55, 57, 60, 66, 65, 72, 67, 63, 69, 76, 78, 80, 82, 87, 91, 94, 95, 92, 96, 104, 105, 106, 107, 109, 111, 114, 115, 116, 120, 119, 127, 122, 123, 132, 134, 128, 130, 135, 147, 142, 154, 150, 146, 151, 152, 149, 143, 153, 156, 140, 138, 137, 141, 145, 148, 144, 139, 136, 133, 131, 126, 124, 125, 113, 112, 108, 101, 102, 90, 77, 74, 71, 73, 68, 59, 56, 44, 28, 21, 27, 32, 17, 20, 23, 25, 16, 13, 10, 12, 22, 24, 70, 75, 79, 86, 81, 61, 58, 35, 62, 64, 84, 85, 97, 89, 93, 98, 100, 103, 110, 88, 19, 15, 7, 5, 3, 1, 2, 4, 8, 9, 11, 14, 18, 26, 36, 83, 99, 117, 121, 118, 129, 155, 160, 162, 163, 168, 171, 178, 173, 172, 174, 183, 180, 176, 177, 179, 169, 166, 167, 164, 158, 157, 161, 165, 170, 184, 192, 187, 190, 188, 191, 189, 186, 185, 182, 181, 175, 193, 159, 6, 0], fitness: 12307.645134843728)\nGeneration 2: Individual(genome: [50, 46, 38, 33, 39, 42, 40, 37, 45, 47, 51, 52, 53, 54, 48, 41, 43, 34, 31, 29, 30, 49, 55, 57, 60, 66, 65, 72, 67, 63, 69, 76, 78, 80, 82, 87, 91, 94, 95, 92, 96, 104, 105, 106, 107, 109, 111, 114, 115, 116, 120, 119, 127, 122, 123, 132, 134, 128, 130, 135, 147, 142, 154, 150, 146, 151, 152, 149, 143, 153, 156, 140, 138, 137, 141, 145, 148, 144, 139, 136, 133, 131, 126, 124, 125, 113, 112, 108, 101, 102, 90, 77, 74, 71, 73, 68, 59, 56, 44, 28, 21, 27, 32, 17, 20, 23, 25, 16, 13, 10, 12, 22, 24, 70, 75, 79, 86, 81, 61, 58, 35, 62, 64, 84, 85, 97, 89, 93, 98, 100, 103, 110, 88, 19, 15, 7, 5, 3, 1, 2, 4, 8, 9, 11, 14, 18, 26, 36, 83, 99, 117, 121, 118, 129, 155, 160, 162, 163, 168, 171, 178, 173, 172, 174, 183, 180, 176, 177, 179, 169, 166, 167, 164, 158, 157, 161, 165, 170, 184, 192, 187, 190, 188, 191, 189, 186, 185, 182, 181, 175, 193, 159, 6, 0], fitness: 12307.645134843728)\nGeneration 3: Individual(genome: [50, 46, 38, 33, 39, 42, 40, 37, 45, 47, 51, 52, 53, 54, 48, 41, 43, 34, 31, 29, 30, 49, 55, 57, 60, 66, 65, 72, 67, 63, 69, 76, 78, 80, 82, 87, 91, 94, 95, 92, 96, 104, 105, 106, 107, 109, 111, 114, 115, 116, 120, 119, 127, 122, 123, 132, 134, 128, 130, 135, 147, 142, 154, 150, 146, 151, 152, 149, 143, 153, 156, 140, 138, 137, 141, 145, 148, 144, 139, 136, 133, 131, 126, 124, 125, 113, 112, 108, 101, 102, 90, 77, 74, 71, 73, 68, 59, 56, 44, 28, 21, 27, 32, 17, 20, 23, 25, 16, 13, 10, 12, 22, 24, 70, 75, 79, 86, 81, 61, 58, 35, 62, 64, 84, 85, 97, 89, 93, 98, 100, 103, 110, 88, 19, 15, 7, 5, 3, 1, 2, 4, 8, 9, 11, 14, 18, 26, 36, 83, 99, 117, 121, 118, 129, 155, 160, 162, 163, 168, 171, 178, 173, 172, 174, 183, 180, 176, 177, 179, 169, 166, 167, 164, 158, 157, 161, 165, 170, 184, 192, 187, 190, 188, 191, 189, 186, 185, 182, 181, 175, 193, 159, 6, 0], fitness: 12307.645134843728)\nGeneration 4: Individual(genome: [50, 46, 38, 33, 39, 42, 40, 37, 45, 47, 51, 52, 53, 54, 48, 41, 43, 34, 31, 29, 30, 49, 55, 57, 60, 66, 65, 72, 67, 63, 69, 76, 78, 80, 82, 87, 91, 94, 95, 92, 96, 104, 105, 106, 107, 109, 111, 114, 115, 116, 120, 119, 127, 122, 123, 132, 134, 128, 130, 135, 147, 142, 154, 150, 146, 151, 152, 149, 143, 153, 156, 140, 138, 137, 141, 145, 148, 144, 139, 136, 133, 131, 126, 124, 125, 113, 112, 108, 101, 102, 90, 77, 74, 71, 73, 68, 59, 56, 44, 28, 21, 27, 32, 17, 20, 23, 25, 16, 13, 10, 12, 22, 24, 70, 75, 79, 86, 81, 61, 58, 35, 62, 64, 84, 85, 97, 89, 93, 98, 100, 103, 110, 88, 19, 15, 7, 5, 3, 1, 2, 4, 8, 9, 11, 14, 18, 26, 36, 83, 99, 117, 121, 118, 129, 155, 160, 162, 163, 168, 171, 178, 173, 172, 174, 183, 180, 176, 177, 179, 169, 166, 167, 164, 158, 157, 161, 165, 170, 184, 192, 187, 190, 188, 191, 189, 186, 185, 182, 181, 175, 193, 159, 6, 0], fitness: 12307.645134843728)\nGeneration 5: Individual(genome: [50, 46, 38, 33, 39, 42, 40, 37, 45, 47, 51, 52, 53, 54, 48, 41, 43, 34, 31, 29, 30, 49, 55, 57, 60, 66, 65, 72, 67, 63, 69, 76, 78, 80, 82, 87, 91, 94, 95, 92, 96, 104, 105, 106, 107, 109, 111, 114, 115, 116, 120, 119, 127, 122, 123, 132, 134, 128, 130, 135, 147, 142, 154, 150, 146, 151, 152, 149, 143, 153, 156, 140, 138, 137, 141, 145, 148, 144, 139, 136, 133, 131, 126, 124, 125, 113, 112, 108, 101, 102, 90, 77, 74, 71, 73, 68, 59, 56, 44, 28, 21, 27, 32, 17, 20, 23, 25, 16, 13, 10, 12, 22, 24, 70, 75, 79, 86, 81, 61, 58, 35, 62, 64, 84, 85, 97, 89, 93, 98, 100, 103, 110, 88, 19, 15, 7, 5, 3, 1, 2, 4, 8, 9, 11, 14, 18, 26, 36, 83, 99, 117, 121, 118, 129, 155, 160, 162, 163, 168, 171, 178, 173, 172, 174, 183, 180, 176, 177, 179, 169, 166, 167, 164, 158, 157, 161, 165, 170, 184, 192, 187, 190, 188, 191, 189, 186, 185, 182, 181, 175, 193, 159, 6, 0], fitness: 12307.645134843728)\nGeneration 6: Individual(genome: [50, 46, 38, 33, 39, 42, 40, 37, 45, 47, 51, 52, 53, 54, 48, 41, 43, 34, 31, 29, 30, 49, 55, 57, 60, 66, 65, 72, 67, 63, 69, 76, 78, 80, 82, 87, 91, 94, 95, 92, 96, 104, 105, 106, 107, 109, 111, 114, 115, 116, 120, 119, 127, 122, 123, 132, 134, 128, 130, 135, 147, 142, 154, 150, 146, 151, 152, 149, 143, 153, 156, 140, 138, 137, 141, 145, 148, 144, 139, 136, 133, 131, 126, 124, 125, 113, 112, 108, 101, 102, 90, 77, 74, 71, 73, 68, 59, 56, 44, 28, 21, 27, 32, 17, 20, 23, 25, 16, 13, 10, 12, 22, 24, 70, 75, 79, 86, 81, 61, 58, 35, 62, 64, 84, 85, 97, 89, 93, 98, 100, 103, 110, 88, 19, 15, 7, 5, 3, 1, 2, 4, 8, 9, 11, 14, 18, 26, 36, 83, 99, 117, 121, 118, 129, 155, 160, 162, 163, 168, 171, 178, 173, 172, 174, 183, 180, 176, 177, 179, 169, 166, 167, 164, 158, 157, 161, 165, 170, 184, 192, 187, 190, 188, 191, 189, 186, 185, 182, 181, 175, 193, 159, 6, 0], fitness: 12307.645134843728)\nGeneration 7: Individual(genome: [50, 46, 38, 33, 39, 42, 40, 37, 45, 47, 51, 52, 53, 54, 48, 41, 43, 34, 31, 29, 30, 49, 55, 57, 60, 66, 65, 72, 67, 63, 69, 76, 78, 80, 82, 87, 91, 94, 95, 92, 96, 104, 105, 106, 107, 109, 111, 114, 115, 116, 120, 119, 127, 122, 123, 132, 134, 128, 130, 135, 147, 142, 154, 150, 146, 151, 152, 149, 143, 153, 156, 140, 138, 137, 141, 145, 148, 144, 139, 136, 133, 131, 126, 124, 125, 113, 112, 108, 101, 102, 90, 77, 74, 71, 73, 68, 59, 56, 44, 28, 21, 27, 32, 17, 20, 23, 25, 16, 13, 10, 12, 22, 24, 70, 75, 79, 86, 81, 61, 58, 35, 62, 64, 84, 85, 97, 89, 93, 98, 100, 103, 110, 88, 19, 15, 7, 5, 3, 1, 2, 4, 8, 9, 11, 14, 18, 26, 36, 83, 99, 117, 121, 118, 129, 155, 160, 162, 163, 168, 171, 178, 173, 172, 174, 183, 180, 176, 177, 179, 169, 166, 167, 164, 158, 157, 161, 165, 170, 184, 192, 187, 190, 188, 191, 189, 186, 185, 182, 181, 175, 193, 159, 6, 0], fitness: 12307.645134843728)\nGeneration 8: Individual(genome: [50, 46, 38, 33, 39, 42, 40, 37, 45, 47, 51, 52, 53, 54, 48, 41, 43, 34, 31, 29, 30, 49, 55, 57, 60, 66, 65, 72, 67, 63, 69, 76, 78, 80, 82, 87, 91, 94, 95, 92, 96, 104, 105, 106, 107, 109, 111, 114, 115, 116, 120, 119, 127, 122, 123, 132, 134, 128, 130, 135, 147, 142, 154, 150, 146, 151, 152, 149, 143, 153, 156, 140, 138, 137, 141, 145, 148, 144, 139, 136, 133, 131, 126, 124, 125, 113, 112, 108, 101, 102, 90, 77, 74, 71, 73, 68, 59, 56, 44, 28, 21, 27, 32, 17, 20, 23, 25, 16, 13, 10, 12, 22, 24, 70, 75, 79, 86, 81, 61, 58, 35, 62, 64, 84, 85, 97, 89, 93, 98, 100, 103, 110, 88, 19, 15, 7, 5, 3, 1, 2, 4, 8, 9, 11, 14, 18, 26, 36, 83, 99, 117, 121, 118, 129, 155, 160, 162, 163, 168, 171, 178, 173, 172, 174, 183, 180, 176, 177, 179, 169, 166, 167, 164, 158, 157, 161, 165, 170, 184, 192, 187, 190, 188, 191, 189, 186, 185, 182, 181, 175, 193, 159, 6, 0], fitness: 12307.645134843728)\nGeneration 9: Individual(genome: [50, 46, 38, 33, 39, 42, 40, 37, 45, 47, 51, 52, 53, 54, 48, 41, 43, 34, 31, 29, 30, 49, 55, 57, 60, 66, 65, 72, 67, 63, 69, 76, 78, 80, 82, 87, 91, 94, 95, 92, 96, 104, 105, 106, 107, 109, 111, 114, 115, 116, 120, 119, 127, 122, 123, 132, 134, 128, 130, 135, 147, 142, 154, 150, 146, 151, 152, 149, 143, 153, 156, 140, 138, 137, 141, 145, 148, 144, 139, 136, 133, 131, 126, 124, 125, 113, 112, 108, 101, 102, 90, 77, 74, 71, 73, 68, 59, 56, 44, 28, 21, 27, 32, 17, 20, 23, 25, 16, 13, 10, 12, 22, 24, 70, 75, 79, 86, 81, 61, 58, 35, 62, 64, 84, 85, 97, 89, 93, 98, 100, 103, 110, 88, 19, 15, 7, 5, 3, 1, 2, 4, 8, 9, 11, 14, 18, 26, 36, 83, 99, 117, 121, 118, 129, 155, 160, 162, 163, 168, 171, 178, 173, 172, 174, 183, 180, 176, 177, 179, 169, 166, 167, 164, 158, 157, 161, 165, 170, 184, 192, 187, 190, 188, 191, 189, 186, 185, 182, 181, 175, 193, 159, 6, 0], fitness: 12307.645134843728)\n"
     ]
    },
    {
     "output_type": "execute_result",
     "data": {
      "text/plain": [
       "Individual(genome: [50, 46, 38, 33, 39, 42, 40, 37, 45, 47, 51, 52, 53, 54, 48, 41, 43, 34, 31, 29, 30, 49, 55, 57, 60, 66, 65, 72, 67, 63, 69, 76, 78, 80, 82, 87, 91, 94, 95, 92, 96, 104, 105, 106, 107, 109, 111, 114, 115, 116, 120, 119, 127, 122, 123, 132, 134, 128, 130, 135, 147, 142, 154, 150, 146, 151, 152, 149, 143, 153, 156, 140, 138, 137, 141, 145, 148, 144, 139, 136, 133, 131, 126, 124, 125, 113, 112, 108, 101, 102, 90, 77, 74, 71, 73, 68, 59, 56, 44, 28, 21, 27, 32, 17, 20, 23, 25, 16, 13, 10, 12, 22, 24, 70, 75, 79, 86, 81, 61, 58, 35, 62, 64, 84, 85, 97, 89, 93, 98, 100, 103, 110, 88, 19, 15, 7, 5, 3, 1, 2, 4, 8, 9, 11, 14, 18, 26, 36, 83, 99, 117, 121, 118, 129, 155, 160, 162, 163, 168, 171, 178, 173, 172, 174, 183, 180, 176, 177, 179, 169, 166, 167, 164, 158, 157, 161, 165, 170, 184, 192, 187, 190, 188, 191, 189, 186, 185, 182, 181, 175, 193, 159, 6, 0], fitness: 12307.645134843728)"
      ]
     },
     "metadata": {},
     "execution_count": 17
    }
   ],
   "source": [
    "GA(n_population=20, n_generation=10, greedy_rate=1 / 5, verbose=True)"
   ]
  },
  {
   "cell_type": "code",
   "execution_count": null,
   "metadata": {},
   "outputs": [],
   "source": []
  }
 ],
 "metadata": {
  "jupytext": {
   "encoding": "# -*- coding: utf-8 -*-",
   "formats": "ipynb,py"
  },
  "kernelspec": {
   "name": "python394jvsc74a57bd0b51b1ace3c01efe6b1476470ed0211d96a9adc30e31e28e4cb788503ec9588a6",
   "display_name": "Python 3.9.4 64-bit ('AnAp': conda)"
  },
  "language_info": {
   "codemirror_mode": {
    "name": "ipython",
    "version": 3
   },
   "file_extension": ".py",
   "mimetype": "text/x-python",
   "name": "python",
   "nbconvert_exporter": "python",
   "pygments_lexer": "ipython3",
   "version": "3.9.4"
  }
 },
 "nbformat": 4,
 "nbformat_minor": 4
}